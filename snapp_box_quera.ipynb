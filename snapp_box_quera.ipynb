{
  "nbformat": 4,
  "nbformat_minor": 0,
  "metadata": {
    "colab": {
      "name": "snapp box quera.ipynb",
      "provenance": [],
      "authorship_tag": "ABX9TyOc373SINePulVxArD0bu45",
      "include_colab_link": true
    },
    "kernelspec": {
      "name": "python3",
      "display_name": "Python 3"
    },
    "language_info": {
      "name": "python"
    }
  },
  "cells": [
    {
      "cell_type": "markdown",
      "metadata": {
        "id": "view-in-github",
        "colab_type": "text"
      },
      "source": [
        "<a href=\"https://colab.research.google.com/github/shahmohamadi/quera.ir/blob/master/snapp_box_quera.ipynb\" target=\"_parent\"><img src=\"https://colab.research.google.com/assets/colab-badge.svg\" alt=\"Open In Colab\"/></a>"
      ]
    },
    {
      "cell_type": "code",
      "metadata": {
        "id": "bFFaSXgw072o"
      },
      "source": [
        "a = input().lower()\n",
        "b = input().lower()\n",
        "\n",
        "if a[0] == b[-1]:\n",
        "  print('YES')\n",
        "else:\n",
        "  print('NO')"
      ],
      "execution_count": null,
      "outputs": []
    },
    {
      "cell_type": "code",
      "metadata": {
        "colab": {
          "base_uri": "https://localhost:8080/",
          "height": 36
        },
        "id": "8I9xAjSP13tV",
        "outputId": "88bcc053-a5d5-4c87-ff4e-1025f59eb8ec"
      },
      "source": [
        "a[-1].lower()"
      ],
      "execution_count": 12,
      "outputs": [
        {
          "output_type": "execute_result",
          "data": {
            "application/vnd.google.colaboratory.intrinsic+json": {
              "type": "string"
            },
            "text/plain": [
              "'s'"
            ]
          },
          "metadata": {
            "tags": []
          },
          "execution_count": 12
        }
      ]
    },
    {
      "cell_type": "code",
      "metadata": {
        "colab": {
          "base_uri": "https://localhost:8080/"
        },
        "id": "nZxmtC40GSsB",
        "outputId": "3db82c51-3917-457b-95fa-6a2c44a9e12c"
      },
      "source": [
        "n = int(input())\n",
        "k = int(input())\n",
        "inp = input()"
      ],
      "execution_count": 63,
      "outputs": [
        {
          "output_type": "stream",
          "text": [
            "4\n",
            "5\n",
            "abcd\n"
          ],
          "name": "stdout"
        }
      ]
    },
    {
      "cell_type": "code",
      "metadata": {
        "id": "il4LJtuvGxg1"
      },
      "source": [
        "def shift(x):\n",
        "\n",
        "  temp= x[:-1]\n",
        "  my_string = x[-1] + temp\n",
        "  out = \"\"\n",
        "  key = 'abcdefghijklmnopqrstuvwxyz'\n",
        "\n",
        "  for s in my_string:\n",
        "    \n",
        "    if s == 'z':\n",
        "      new = 'a'\n",
        "    else:\n",
        "      new = key[key.index(s) + 1]\n",
        "\n",
        "    out += new\n",
        "\n",
        "  return(out)\n"
      ],
      "execution_count": 65,
      "outputs": []
    },
    {
      "cell_type": "code",
      "metadata": {
        "colab": {
          "base_uri": "https://localhost:8080/"
        },
        "id": "7pjTSDmFKk0x",
        "outputId": "ff2550f4-6234-4ac0-d424-04f9c39cf1b8"
      },
      "source": [
        "for i in range(k):\n",
        "\n",
        "  shifted = shift(inp)\n",
        "  inp = shifted\n",
        "\n",
        "print(shifted)"
      ],
      "execution_count": 66,
      "outputs": [
        {
          "output_type": "stream",
          "text": [
            "ifgh\n"
          ],
          "name": "stdout"
        }
      ]
    }
  ]
}